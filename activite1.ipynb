{
 "cells": [
  {
   "cell_type": "markdown",
   "metadata": {},
   "source": [
    "# Activité 1"
   ]
  },
  {
   "cell_type": "markdown",
   "metadata": {},
   "source": [
    "## Lecture d'un fichier csv\n",
    "\n",
    "Pour manipuler et analyser les données, le module `pandas` ([https://pandas.pydata.org/](https://pandas.pydata.org/)), développé pour Python, s'avère des plus pratique. En particulier, il permet la lecture et l'écriture de fichiers `csv`. Nous le chargeons donc dès le début de notre code avec le module `numpy`."
   ]
  },
  {
   "cell_type": "code",
   "execution_count": null,
   "metadata": {},
   "outputs": [],
   "source": [
    "import numpy as np\n",
    "import pandas as pd"
   ]
  },
  {
   "cell_type": "markdown",
   "metadata": {},
   "source": [
    "Pour ouvrir un fichier en *lecture* et charger les données dans la mémoire de l'ordinateur, nous utilisons la fonction `read_csv`de ce module. Celle-ci reçoit plusieurs arguments parmi lesquels :\n",
    "- le nom du fichier;\n",
    "- une indication sur le séparateur des données : virgule `,`, point-virgule `;`, espace ` `, tabulation `\\t`;\n",
    "- une option précisant si la première ligne du fichier est une ligne d'entêtes ou une ligne de données.\n",
    "\n",
    "Pour illustrer notre propos, ouvrons avec un fichier nommé `data_chute_libre1.csv` dans lequel la première ligne comporte les désignations des informations présentes dans chaque colonne. Les données y sont séparées par un point-virgule. Les données sont affectées à la variable `data`."
   ]
  },
  {
   "cell_type": "code",
   "execution_count": null,
   "metadata": {},
   "outputs": [],
   "source": [
    "# nom du fichier\n",
    "filename = 'data_chute_libre1.csv'\n",
    "# lecture des données et stockage dans la variable data\n",
    "data = pd.read_csv(filename, sep = ';')"
   ]
  },
  {
   "cell_type": "markdown",
   "metadata": {},
   "source": [
    "La variable `data`,appelée un *dataframe*, contient toutes les informations tabulaires présentes dans le fichier. L'affichage des cinq premières lignes du tableau se fait à l'aide de la fonction `head` du module `panda`."
   ]
  },
  {
   "cell_type": "code",
   "execution_count": null,
   "metadata": {},
   "outputs": [],
   "source": [
    "print(data)"
   ]
  },
  {
   "cell_type": "markdown",
   "metadata": {},
   "source": [
    "Si le séparateur des données est une virgule, la variable `data` est définie par `pandas.read_csv(filename, sep = ',')`. Le fichier `data_chute_libre2.csv` permet d'illustrer cette remarque."
   ]
  },
  {
   "cell_type": "code",
   "execution_count": null,
   "metadata": {},
   "outputs": [],
   "source": [
    "filename = 'data_chute_libre2.csv'\n",
    "data = pd.read_csv(filename, sep = ',')\n",
    "data.head()"
   ]
  },
  {
   "cell_type": "markdown",
   "metadata": {},
   "source": [
    "### Question\n",
    "> 1. Quels séparateurs sont utilisés dans les lignes suivantes ?\n",
    "```\n",
    "data = pandas.read_csv(filename, sep = ' ')\n",
    "data = pandas.read_csv(filename, sep = '\\t')\n",
    "```\n",
    "\n",
    "Vous pouvez les tester avec les fichiers `data_chute_libre3.csv` et `data_chute_libre4.csv`."
   ]
  },
  {
   "cell_type": "code",
   "execution_count": null,
   "metadata": {},
   "outputs": [],
   "source": [
    "# fichier data_chute_libre3.csv\n",
    "filename = 'data_chute_libre3.csv'\n",
    "data = pd.read_csv(filename, sep = ' ')\n",
    "data.head()"
   ]
  },
  {
   "cell_type": "code",
   "execution_count": null,
   "metadata": {},
   "outputs": [],
   "source": [
    "# fichier data_chute_libre4.csv\n",
    "filename = 'data_chute_libre4.csv'\n",
    "data = pd.read_csv(filename, sep = '\\t')\n",
    "data.head()"
   ]
  },
  {
   "cell_type": "markdown",
   "metadata": {},
   "source": [
    "## Manipulation élémentaires des données\n",
    "\n",
    "Comme écrit plus haut, la variable `data` est un *dataframe* ([http://pandas.pydata.org/pandas-docs/stable/dsintro.html#dataframe](http://pandas.pydata.org/pandas-docs/stable/dsintro.html#dataframe)). Il s'agit d'une *structure de données*, c'est-à-dire d'un moyen d'organiser l'information dans la mémoire de l'ordinateur et d'agir sur celle-ci à l'aide de *méthodes* (fonctions) spécifiques. Un *dataframe* `panda` est une structure de données bidimensionnelle qui ressemble à un tableau si ce n'est que les données qui y sont stockées peuvent être de *types* différents.\n",
    "Si la première ligne du *dataframe* contient les intitulés des colonnes, il est possible de récupérer les données de la colonne en y faisant référence. Par exemple :"
   ]
  },
  {
   "cell_type": "code",
   "execution_count": null,
   "metadata": {},
   "outputs": [],
   "source": [
    "t = data['temps'] # tableau des instants\n",
    "#print(t)"
   ]
  },
  {
   "cell_type": "markdown",
   "metadata": {},
   "source": [
    "affecte à la variable `t` toutes les valeurs de la première colonne de `data`. Le type de cette variable est `pandas.core.series.Series`, un type de `panda` qui s'apparente à un tableau unidimensionnel.\n",
    "Si nécessaire, `t`peut être convertie en un tableau unidimensionnel de type `ndarray` du module `numpy` avec `t = np.asarray(t)`. Cela n'est cependant pas indispensable pour nos besoins futurs. L'important est de savoir que les données sont dans un tableau !"
   ]
  },
  {
   "cell_type": "markdown",
   "metadata": {},
   "source": [
    "Définissons également deux variables `x` et `z` associées aux deux autres colonnes de `data`."
   ]
  },
  {
   "cell_type": "code",
   "execution_count": null,
   "metadata": {},
   "outputs": [],
   "source": [
    "x = data['abscisse']\n",
    "z = data['cote']"
   ]
  },
  {
   "cell_type": "code",
   "execution_count": null,
   "metadata": {},
   "outputs": [],
   "source": [
    "data.head()"
   ]
  },
  {
   "cell_type": "markdown",
   "metadata": {},
   "source": [
    "### Question\n",
    "> 2. Afficher les cinq premières lignes des tableaux `t`, `x`, `z`."
   ]
  },
  {
   "cell_type": "markdown",
   "metadata": {},
   "source": [
    "Pour un physicien, les tableaux `t`, `x` et `z` représentent des résultats de mesures associés à des grandeurs physiques. Le tableau `t` fait référence à des *instants*, le tableau `x` à des *abscisses*, le tableau `z` à des *cotes*. Chaque donnée des tableaux peut être récupérée par son *indice*. Par exemple :"
   ]
  },
  {
   "cell_type": "code",
   "execution_count": null,
   "metadata": {},
   "outputs": [],
   "source": [
    "print(t)"
   ]
  },
  {
   "cell_type": "markdown",
   "metadata": {},
   "source": [
    "affiche l'instant de rang 5 dans le tableau `t`. Il convient d'être vigilant avec les indices : **ils commencent à 0** et non à 1. Comparez les deux résultats renvoyés les lignes de codes suivantes."
   ]
  },
  {
   "cell_type": "code",
   "execution_count": null,
   "metadata": {},
   "outputs": [],
   "source": [
    "print(t[4])\n",
    "t.head()"
   ]
  },
  {
   "cell_type": "markdown",
   "metadata": {},
   "source": [
    "Le nombre d'éléments dans un tableau peut être obtenu en appelant la *méthode* `len`."
   ]
  },
  {
   "cell_type": "code",
   "execution_count": null,
   "metadata": {},
   "outputs": [],
   "source": [
    "print(len(t))"
   ]
  },
  {
   "cell_type": "markdown",
   "metadata": {},
   "source": [
    "Le résultat précédent indique que le tableau `t` contient 20 informations, chacune accessible par son rang de 0 à 19. La méthode `print` permet leur affichage. Attention à ne pas demander l'affichage d'un trop grand nombre de valeurs !"
   ]
  },
  {
   "cell_type": "code",
   "execution_count": null,
   "metadata": {},
   "outputs": [],
   "source": [
    "print(t)"
   ]
  },
  {
   "cell_type": "markdown",
   "metadata": {},
   "source": [
    "## Graphiques\n",
    "Les deux tableaux `x` et `z` contiennent donc les mesures d'abscisses et de cotes associées à différents instants stockés dans la tableau `t`. Ainsi, à l'instant `t[i]` sont associées l'abscisse `x[i]` et la cote `z[i]`, `i` étant un entier pouvant prendre ses valeurs entre 0 et 19 dans notre exemple.\n",
    "La représentation graphique des *lois horaires* donnant l'évolution de l'abscisse en fonction du temps peut se faire à l'aide de méthodes graphiques du module `matplotlib.pyplot`. Chargeons ce module."
   ]
  },
  {
   "cell_type": "code",
   "execution_count": null,
   "metadata": {},
   "outputs": [],
   "source": [
    "import matplotlib.pyplot as plt\n",
    "#%matplotlib inline"
   ]
  },
  {
   "cell_type": "markdown",
   "metadata": {},
   "source": [
    "puis traçons la loi horaire de l'abscisse."
   ]
  },
  {
   "cell_type": "code",
   "execution_count": null,
   "metadata": {},
   "outputs": [],
   "source": [
    "plt.plot(t,x)\n",
    "plt.show()"
   ]
  },
  {
   "cell_type": "markdown",
   "metadata": {},
   "source": [
    "La loi horaire de la cote est obtenue de manièe similaire."
   ]
  },
  {
   "cell_type": "code",
   "execution_count": null,
   "metadata": {},
   "outputs": [],
   "source": [
    "plt.plot(t,z)\n",
    "plt.show()"
   ]
  },
  {
   "cell_type": "markdown",
   "metadata": {},
   "source": [
    "Enfin, la *trajectoire*, c'est-à-dire la cote en fonction de l'abscisse, est obtenue comme suit."
   ]
  },
  {
   "cell_type": "code",
   "execution_count": null,
   "metadata": {},
   "outputs": [],
   "source": [
    "plt.plot(x,z)\n",
    "plt.show()"
   ]
  },
  {
   "cell_type": "markdown",
   "metadata": {},
   "source": [
    "Par défaut, les précédents graphes sont obtenus en joignant les points de mesures. Des options permettent de modifier l'apparence des graphes. Par exemple, en ajoutant `'ro'` dans la méthode `plot`, les points sont matérialisés en rouge (`r`) sous la forme de petits disques (`o`)."
   ]
  },
  {
   "cell_type": "code",
   "execution_count": null,
   "metadata": {},
   "outputs": [],
   "source": [
    "plt.plot(x,z,'b+')\n",
    "plt.show()"
   ]
  },
  {
   "cell_type": "markdown",
   "metadata": {},
   "source": [
    "Les deux présentations peuvent être combinées."
   ]
  },
  {
   "cell_type": "code",
   "execution_count": null,
   "metadata": {},
   "outputs": [],
   "source": [
    "#plt.plot(x,z,'b-',x,z,'r+')\n",
    "plt.plot(t,x,'r+')\n",
    "plt.plot(t,z,\"b+\")\n",
    "#plt.plot(x,z,'bo-')\n",
    "plt.show()"
   ]
  },
  {
   "cell_type": "markdown",
   "metadata": {},
   "source": [
    "D'autres options permettent l'ajout de *labels* sur les axes et d'un titre au graphique. La première ligne du code suivant permet en outre de redéfinir la taille du graphique affiché : 10 pouces x 5 pouces."
   ]
  },
  {
   "cell_type": "code",
   "execution_count": null,
   "metadata": {},
   "outputs": [],
   "source": [
    "plt.rcParams['figure.figsize'] = [6,3]\n",
    "plt.xlabel(\"abscisse $x$\")\n",
    "plt.ylabel(\"cote $z$\")\n",
    "plt.title(\"Chute libre d'un corps\")\n",
    "plt.plot(x,z,'ro-')\n",
    "plt.show()"
   ]
  },
  {
   "cell_type": "markdown",
   "metadata": {},
   "source": [
    "Le module `matplotlib`regorge de fonctionnalités et d'options qui permettent des mises en forme très élaborées des graphiques. Le notebook [http://laphysiquedepapa.free.fr/algorithmique/matplotlib.html](http://laphysiquedepapa.free.fr/algorithmique/matplotlib.html) en donne un aperçu pour le besoins du physicien."
   ]
  },
  {
   "cell_type": "markdown",
   "metadata": {},
   "source": [
    "# Compléments\n",
    "\n",
    "## Représentation graphique d'une loi physique\n",
    "\n",
    "Sous certaines hypothèses, un modèle mathématique peut décrire le comportement d'un phénomène physique. Par exemple, les oscillations amorties d'un oscillateur linéaire sont décrites par la relation suivante décrivant l'évolution d'une grandeur physique $x$ (élongation, angle) en fonction du temps $t$. Dans un intervalle de temps $[t_{min},t_{max}]$, on a :\n",
    "$$ \\forall t \\in [t_{min},t_{max}], x(t) = x_m e^{-t / \\tau} \\cos(2 \\pi f t + \\varphi) $$\n",
    "Dans cette expression :\n",
    "- $x_m$ représente l'amplitude des oscillations;\n",
    "- $\\tau$ est un temps caractéristique associé à l'amortissement des oscillations;\n",
    "- $f$ est une fréquence caractéristique d'oscillations;\n",
    "- $\\varphi$ est une phase liée aux conditions dans lequel le système se trouve initialement.\n",
    "Pour tracer l'évolution de $x$ en fonction de $t$, il convient de définir les différents paramètres physiques de la relation. On suppose les modules `numpy`, `matplotlib.pyplot` et `pandas`chargés."
   ]
  },
  {
   "cell_type": "code",
   "execution_count": null,
   "metadata": {},
   "outputs": [],
   "source": [
    "import numpy as np\n",
    "import matplotlib.pyplot as plt\n",
    "\n",
    "# paramètres physiques\n",
    "x_m = 1.0\n",
    "tau = 10.0\n",
    "f = 1.0\n",
    "phi = 0.0"
   ]
  },
  {
   "cell_type": "markdown",
   "metadata": {},
   "source": [
    "Puis on définit les paramètres nécessaires pour le tracé de la courbe représentative de $x$ en fonction de $t$."
   ]
  },
  {
   "cell_type": "code",
   "execution_count": null,
   "metadata": {},
   "outputs": [],
   "source": [
    "# intervalle de temps\n",
    "t_min = 0.0\n",
    "t_max = 3 * tau\n",
    "# nombre de points de calculs\n",
    "n_t = 1000"
   ]
  },
  {
   "cell_type": "markdown",
   "metadata": {},
   "source": [
    "L'intervalle $[t_{min},t_{max}]$ est défini par un tableau de $n_t$ valeurs équiréparties à l'aide de la méthode `linspace` du module `numpy`."
   ]
  },
  {
   "cell_type": "code",
   "execution_count": null,
   "metadata": {},
   "outputs": [],
   "source": [
    "t = np.linspace(t_min,t_max,n_t)\n",
    "#print(t)"
   ]
  },
  {
   "cell_type": "markdown",
   "metadata": {},
   "source": [
    "La variable `t` est un tableau de type `ndarray` contenant des flottants. L'une des caractéristiques de ces tableaux est qu'il est possible de leur des opérations mathématiques *en bloc*. Ainsi `cos(2*np.pi*f*t)` est un tableau qui contient autant de valeurs que `t` et dont les éléments sont tous les `cos(2*np.pi*f*t[i])`, où `i` prend les valeurs de `0` à `n_t-1`. Construire un tableau `x` des valeurs de $x$ est alors aisé."
   ]
  },
  {
   "cell_type": "code",
   "execution_count": null,
   "metadata": {},
   "outputs": [],
   "source": [
    "omega = 2 * np.pi * f\n",
    "x = x_m * np.exp(-t / tau) * np.cos(omega * t + phi)\n",
    "#print(x)"
   ]
  },
  {
   "cell_type": "markdown",
   "metadata": {},
   "source": [
    "Il ne reste alors plus qu'à afficher le graphe de $x$ en fonction de $t$."
   ]
  },
  {
   "cell_type": "code",
   "execution_count": null,
   "metadata": {},
   "outputs": [],
   "source": [
    "plt.rcParams['figure.figsize'] = [15,5]\n",
    "#plt.plot(t,x,'ro-')\n",
    "#plt.plot(t,x,'r-',t,x,'bo')\n",
    "plt.plot(t,x,'r-')\n",
    "#plt.scatter(t,x,color='b')\n",
    "plt.show()"
   ]
  },
  {
   "cell_type": "markdown",
   "metadata": {},
   "source": [
    "## Écriture dans un fichier\n",
    "\n",
    "Les données tabulaires contenues dans `t` et `x` peuvent être enregistrées dans un fichier *csv*. Plusieurs solutions existent. Nous proposons d'utiliser une nouvelle fois le module `pandas` pour réaliser cette opération. \n",
    "\n",
    "Dans un premier temps, il convient de créer un *dataframe* qui contient toutes les donneés tabulaires que l'on souhaite enregistrer. Dans notre cas, il s'agit des tableaux `t` et `x`. La méthode `DataFrame` ([http://pandas.pydata.org/pandas-docs/stable/dsintro.html#dataframe](http://pandas.pydata.org/pandas-docs/stable/dsintro.html#dataframe)) assure cette opération. Elle reçoit en arguments les différents tableaux précédés d'une intitulé de colonne. Dans notre exemple, nous intitulons `'temps'` et `'élongation'` les deux colonnes."
   ]
  },
  {
   "cell_type": "code",
   "execution_count": null,
   "metadata": {},
   "outputs": [],
   "source": [
    "data = pd.DataFrame({\n",
    "    'temps' : t,\n",
    "    'élongation' : x\n",
    "})"
   ]
  },
  {
   "cell_type": "code",
   "execution_count": null,
   "metadata": {},
   "outputs": [],
   "source": [
    "data.head()"
   ]
  },
  {
   "cell_type": "markdown",
   "metadata": {},
   "source": [
    "Après avoir défini le nom du fichier de sauvegarde, la méthode `to_csv` ([http://pandas.pydata.org/pandas-docs/stable/io.html](http://pandas.pydata.org/pandas-docs/stable/io.html)) assure l'écriture des données stockées dans la variable `data` dans le fichier. Parmi les options utilisées :\n",
    "- `sep=';'` indique que les informations sont séparées par un point-virgule;\n",
    "- `index=False` précise qu'aucun indice de colonne doit être enregistré dans le fichier;\n",
    "- `encoding='utf-8'` stipule que l'encodage des données dans le fichier est *utf-8* ([https://fr.wikipedia.org/wiki/UTF-8](https://fr.wikipedia.org/wiki/UTF-8))."
   ]
  },
  {
   "cell_type": "code",
   "execution_count": null,
   "metadata": {},
   "outputs": [],
   "source": [
    "filename = \"oscillations_pseudo_periodiques.csv\"\n",
    "data.to_csv(filename, sep=';', index=False, encoding='utf-8')"
   ]
  }
 ],
 "metadata": {
  "kernelspec": {
   "display_name": "Python 3",
   "language": "python",
   "name": "python3"
  },
  "language_info": {
   "codemirror_mode": {
    "name": "ipython",
    "version": 3
   },
   "file_extension": ".py",
   "mimetype": "text/x-python",
   "name": "python",
   "nbconvert_exporter": "python",
   "pygments_lexer": "ipython3",
   "version": "3.6.8"
  }
 },
 "nbformat": 4,
 "nbformat_minor": 2
}
